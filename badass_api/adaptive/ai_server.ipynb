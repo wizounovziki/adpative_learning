{
 "cells": [
  {
   "cell_type": "code",
   "execution_count": 1,
   "metadata": {},
   "outputs": [],
   "source": [
    "from flask import Flask, escape,request,jsonify,session\n",
    "import datetime\n",
    "import re\n",
    "import requests\n",
    "import logging\n",
    "import json\n",
    "import datetime\n",
    "import secrets"
   ]
  },
  {
   "cell_type": "code",
   "execution_count": 2,
   "metadata": {},
   "outputs": [],
   "source": [
    "import adaptive_test as adt"
   ]
  },
  {
   "cell_type": "code",
   "execution_count": 3,
   "metadata": {},
   "outputs": [],
   "source": [
    "adt_test = adt.adaptiveTest(items='../data/Math/P1-2_processed.csv')\n",
    "# adt_test.register_examinee('123','sdfasdfss')"
   ]
  },
  {
   "cell_type": "code",
   "execution_count": 4,
   "metadata": {},
   "outputs": [],
   "source": [
    "# Flask server\n",
    "app = Flask(__name__)\n",
    "app.config['SECRET_KEY'] = 'top_secret123xxxyyy'\n",
    "app.config['PERMANENT_SESSION_LIFETIME'] =  datetime.timedelta(minutes=10)"
   ]
  },
  {
   "cell_type": "code",
   "execution_count": 5,
   "metadata": {},
   "outputs": [],
   "source": [
    "\n",
    "@app.route('/adaptivetest',methods=['GET','POST'])\n",
    "def adaptive_test():\n",
    "    if request.method=='POST':\n",
    "        input_data = request.get_json()\n",
    "        \n",
    "        # register student for test session\n",
    "        if input_data['command']=='new':\n",
    "            if str(input_data['id']) in session:\n",
    "                return jsonify({'id':input_data['id'],\n",
    "                                'status' : 'session_error',\n",
    "                                'message' : 'id already exist'\n",
    "                               })\n",
    "            \n",
    "            temp = secrets.token_hex()\n",
    "            status = adt_test.register_examinee(str(input_data['id']),temp)\n",
    "            print(adt_test.active_examinees)\n",
    "            if status:\n",
    "                session[input_data['id']] = temp\n",
    "                return jsonify({'id':input_data['id'],\n",
    "                                'session_id': session[input_data['id']],\n",
    "                                'status' : 'quiz_start'\n",
    "                               })\n",
    "            else:\n",
    "                return jsonify({'id':input_data['id'],\n",
    "                                'status' : 'session_error',\n",
    "                                'message' : 'fail to register'\n",
    "                               })\n",
    "            \n",
    "        # session error\n",
    "        try:\n",
    "            # session time out\n",
    "            if input_data['id'] not in session:\n",
    "                try:\n",
    "                    status = adt_test.remove_examinee(input_data['id'],input_data['session_id'])\n",
    "                    if status:\n",
    "                        print('Session timeout')\n",
    "                    print(adt_test.active_examinees)\n",
    "                except:\n",
    "                    return jsonify({'id':input_data['id'],\n",
    "                                'status' : 'session_error',\n",
    "                                'message': 'session time out'\n",
    "                               })\n",
    "            # session id check\n",
    "            if (session[input_data['id']] != input_data['session_id']):\n",
    "                return jsonify({'id':input_data['id'],\n",
    "                                'status' : 'session_error',\n",
    "                                'message' : 'session id incorrect'\n",
    "                               })\n",
    "        except:\n",
    "            return jsonify({'id':input_data['id'],\n",
    "                                'status' : 'session_error',\n",
    "                            'message': 'pls register first'\n",
    "                               })\n",
    "        \n",
    "        if input_data['command']=='end':\n",
    "            status = adt_test.remove_examinee(input_data['id'],input_data['session_id'])\n",
    "            print(adt_test.active_examinees)\n",
    "            if status:\n",
    "                return jsonify({'id':input_data['id'],\n",
    "                                'session_id': input_data['session_id'],\n",
    "                                'status' : 'quiz_forced_end'\n",
    "                               })\n",
    "            else:\n",
    "                return jsonify({'id':input_data['id'],\n",
    "                                'status' : 'session_error',\n",
    "                                'message': 'check registeration'\n",
    "                               })\n",
    "            \n",
    "        elif input_data['command']=='next':\n",
    "            question = adt_test.get_question_index(input_data['id'],input_data['session_id'])\n",
    "            print(adt_test.active_examinees)\n",
    "            if question:\n",
    "                if question==-1:\n",
    "                    return jsonify({'id':input_data['id'],\n",
    "                                'session_id': input_data['session_id'],\n",
    "                                'status' : 'quiz_error',\n",
    "                                'message' : 'submit answer first'\n",
    "                               })\n",
    "                else:\n",
    "                    return json.dumps({'id':input_data['id'],\n",
    "                                    'session_id': input_data['session_id'],\n",
    "                                    'question_id': str(question['ID']),\n",
    "                                    'question': question['Question'],\n",
    "                                    'choices': {item:question[item] for item in ['A','B','C','D']},\n",
    "                                    'correct_answer': question['Answer'],\n",
    "                                    'status' : 'quiz_question',\n",
    "                                   })\n",
    "            else:\n",
    "                return jsonify({'id':input_data['id'],\n",
    "                                'session_id': input_data['session_id'],\n",
    "                                'status' : 'quiz_end'\n",
    "                               })\n",
    "            \n",
    "        elif input_data['command']=='answer':\n",
    "            status = adt_test.update_response(input_data['id'],input_data['session_id'],input_data['chosen_answer'])\n",
    "            print(adt_test.active_examinees)\n",
    "            if status:\n",
    "                return json.dumps({'id':input_data['id'],\n",
    "                                'session_id': input_data['session_id'],\n",
    "                                'question_id': str(input_data['question_id']),\n",
    "                                'status':'quiz_ans_update'\n",
    "                               })\n",
    "            else:\n",
    "                return json.dumps({'id':input_data['id'],\n",
    "                                'session_id': input_data['session_id'],\n",
    "                                'question_id': str(input_data['question_id']),\n",
    "                                'status' : 'quiz_ans_update_fail'\n",
    "                               })\n",
    "                \n",
    "            \n",
    "            \n",
    "\n"
   ]
  },
  {
   "cell_type": "code",
   "execution_count": null,
   "metadata": {},
   "outputs": [
    {
     "name": "stdout",
     "output_type": "stream",
     "text": [
      " * Serving Flask app \"__main__\" (lazy loading)\n",
      " * Environment: production\n",
      "   WARNING: This is a development server. Do not use it in a production deployment.\n",
      "   Use a production WSGI server instead.\n",
      " * Debug mode: off\n"
     ]
    },
    {
     "name": "stderr",
     "output_type": "stream",
     "text": [
      " * Running on http://127.0.0.1:5000/ (Press CTRL+C to quit)\n",
      "127.0.0.1 - - [16/Dec/2019 00:07:15] \"\u001b[37mPOST /adaptivetest HTTP/1.1\u001b[0m\" 200 -\n"
     ]
    },
    {
     "name": "stdout",
     "output_type": "stream",
     "text": [
      "{'1232bcf45368f8f19f41f5acfeba9fe142defaa5d74c99ec090cd99336ebc0c56a0': {'start_time': datetime.datetime(2019, 12, 16, 0, 7, 15, 693594), 'exam_id': '1232bcf45368f8f19f41f5acfeba9fe142defaa5d74c99ec090cd99336ebc0c56a0', 'student_id': '123', 'session_id': '2bcf45368f8f19f41f5acfeba9fe142defaa5d74c99ec090cd99336ebc0c56a0', 'administered_items': [], 'responses': [], 'history': None, 'est_theta': 1.8418793623894478}}\n"
     ]
    },
    {
     "name": "stderr",
     "output_type": "stream",
     "text": [
      "127.0.0.1 - - [16/Dec/2019 00:07:32] \"\u001b[37mPOST /adaptivetest HTTP/1.1\u001b[0m\" 200 -\n"
     ]
    },
    {
     "name": "stdout",
     "output_type": "stream",
     "text": [
      "{'1232bcf45368f8f19f41f5acfeba9fe142defaa5d74c99ec090cd99336ebc0c56a0': {'start_time': datetime.datetime(2019, 12, 16, 0, 7, 15, 693594), 'exam_id': '1232bcf45368f8f19f41f5acfeba9fe142defaa5d74c99ec090cd99336ebc0c56a0', 'student_id': '123', 'session_id': '2bcf45368f8f19f41f5acfeba9fe142defaa5d74c99ec090cd99336ebc0c56a0', 'administered_items': [175], 'responses': [], 'history': None, 'est_theta': 1.8418793623894478}}\n"
     ]
    },
    {
     "name": "stderr",
     "output_type": "stream",
     "text": [
      "127.0.0.1 - - [16/Dec/2019 00:08:00] \"\u001b[37mPOST /adaptivetest HTTP/1.1\u001b[0m\" 200 -\n"
     ]
    },
    {
     "name": "stdout",
     "output_type": "stream",
     "text": [
      "{'1232bcf45368f8f19f41f5acfeba9fe142defaa5d74c99ec090cd99336ebc0c56a0': {'start_time': datetime.datetime(2019, 12, 16, 0, 7, 15, 693594), 'exam_id': '1232bcf45368f8f19f41f5acfeba9fe142defaa5d74c99ec090cd99336ebc0c56a0', 'student_id': '123', 'session_id': '2bcf45368f8f19f41f5acfeba9fe142defaa5d74c99ec090cd99336ebc0c56a0', 'administered_items': [175], 'responses': [True], 'history': None, 'est_theta': 1.8418793623894478}}\n"
     ]
    },
    {
     "name": "stderr",
     "output_type": "stream",
     "text": [
      "127.0.0.1 - - [16/Dec/2019 00:08:50] \"\u001b[37mPOST /adaptivetest HTTP/1.1\u001b[0m\" 200 -\n"
     ]
    },
    {
     "name": "stdout",
     "output_type": "stream",
     "text": [
      "{}\n"
     ]
    },
    {
     "name": "stderr",
     "output_type": "stream",
     "text": [
      "127.0.0.1 - - [16/Dec/2019 00:10:09] \"\u001b[37mPOST /adaptivetest HTTP/1.1\u001b[0m\" 200 -\n",
      "127.0.0.1 - - [16/Dec/2019 00:10:25] \"\u001b[37mPOST /adaptivetest HTTP/1.1\u001b[0m\" 200 -\n",
      "127.0.0.1 - - [16/Dec/2019 00:10:34] \"\u001b[37mPOST /adaptivetest HTTP/1.1\u001b[0m\" 200 -\n",
      "127.0.0.1 - - [16/Dec/2019 00:10:49] \"\u001b[37mPOST /adaptivetest HTTP/1.1\u001b[0m\" 200 -\n",
      "127.0.0.1 - - [16/Dec/2019 00:11:06] \"\u001b[37mPOST /adaptivetest HTTP/1.1\u001b[0m\" 200 -\n",
      "127.0.0.1 - - [16/Dec/2019 00:11:31] \"\u001b[37mPOST /adaptivetest HTTP/1.1\u001b[0m\" 200 -\n"
     ]
    },
    {
     "name": "stdout",
     "output_type": "stream",
     "text": [
      "{'12378c957e24171d582c9fbc021b90ac223f3d677c092d5ae0b6b0fd02f73548560': {'start_time': datetime.datetime(2019, 12, 16, 0, 11, 31, 926682), 'exam_id': '12378c957e24171d582c9fbc021b90ac223f3d677c092d5ae0b6b0fd02f73548560', 'student_id': '123', 'session_id': '78c957e24171d582c9fbc021b90ac223f3d677c092d5ae0b6b0fd02f73548560', 'administered_items': [], 'responses': [], 'history': None, 'est_theta': -2.617011351122116}}\n"
     ]
    },
    {
     "name": "stderr",
     "output_type": "stream",
     "text": [
      "127.0.0.1 - - [16/Dec/2019 00:12:47] \"\u001b[37mPOST /adaptivetest HTTP/1.1\u001b[0m\" 200 -\n"
     ]
    },
    {
     "name": "stdout",
     "output_type": "stream",
     "text": [
      "{'12378c957e24171d582c9fbc021b90ac223f3d677c092d5ae0b6b0fd02f73548560': {'start_time': datetime.datetime(2019, 12, 16, 0, 11, 31, 926682), 'exam_id': '12378c957e24171d582c9fbc021b90ac223f3d677c092d5ae0b6b0fd02f73548560', 'student_id': '123', 'session_id': '78c957e24171d582c9fbc021b90ac223f3d677c092d5ae0b6b0fd02f73548560', 'administered_items': [105], 'responses': [], 'history': None, 'est_theta': -2.617011351122116}}\n"
     ]
    },
    {
     "name": "stderr",
     "output_type": "stream",
     "text": [
      "127.0.0.1 - - [16/Dec/2019 00:15:54] \"\u001b[37mPOST /adaptivetest HTTP/1.1\u001b[0m\" 200 -\n"
     ]
    },
    {
     "name": "stdout",
     "output_type": "stream",
     "text": [
      "{'12378c957e24171d582c9fbc021b90ac223f3d677c092d5ae0b6b0fd02f73548560': {'start_time': datetime.datetime(2019, 12, 16, 0, 11, 31, 926682), 'exam_id': '12378c957e24171d582c9fbc021b90ac223f3d677c092d5ae0b6b0fd02f73548560', 'student_id': '123', 'session_id': '78c957e24171d582c9fbc021b90ac223f3d677c092d5ae0b6b0fd02f73548560', 'administered_items': [105], 'responses': [True], 'history': None, 'est_theta': -2.617011351122116}}\n"
     ]
    },
    {
     "name": "stderr",
     "output_type": "stream",
     "text": [
      "127.0.0.1 - - [16/Dec/2019 00:16:50] \"\u001b[37mPOST /adaptivetest HTTP/1.1\u001b[0m\" 200 -\n"
     ]
    },
    {
     "name": "stdout",
     "output_type": "stream",
     "text": [
      "{'12378c957e24171d582c9fbc021b90ac223f3d677c092d5ae0b6b0fd02f73548560': {'start_time': datetime.datetime(2019, 12, 16, 0, 11, 31, 926682), 'exam_id': '12378c957e24171d582c9fbc021b90ac223f3d677c092d5ae0b6b0fd02f73548560', 'student_id': '123', 'session_id': '78c957e24171d582c9fbc021b90ac223f3d677c092d5ae0b6b0fd02f73548560', 'administered_items': [105], 'responses': [True], 'history': None, 'est_theta': -2.617011351122116}}\n"
     ]
    },
    {
     "name": "stderr",
     "output_type": "stream",
     "text": [
      "127.0.0.1 - - [16/Dec/2019 00:17:53] \"\u001b[37mPOST /adaptivetest HTTP/1.1\u001b[0m\" 200 -\n"
     ]
    },
    {
     "name": "stdout",
     "output_type": "stream",
     "text": [
      "{}\n"
     ]
    }
   ],
   "source": [
    "if __name__ == '__main__':\n",
    "    app.run()"
   ]
  },
  {
   "cell_type": "code",
   "execution_count": null,
   "metadata": {},
   "outputs": [],
   "source": []
  }
 ],
 "metadata": {
  "kernelspec": {
   "display_name": "Python 3",
   "language": "python",
   "name": "python3"
  },
  "language_info": {
   "codemirror_mode": {
    "name": "ipython",
    "version": 3
   },
   "file_extension": ".py",
   "mimetype": "text/x-python",
   "name": "python",
   "nbconvert_exporter": "python",
   "pygments_lexer": "ipython3",
   "version": "3.6.8"
  },
  "varInspector": {
   "cols": {
    "lenName": 16,
    "lenType": 16,
    "lenVar": 40
   },
   "kernels_config": {
    "python": {
     "delete_cmd_postfix": "",
     "delete_cmd_prefix": "del ",
     "library": "var_list.py",
     "varRefreshCmd": "print(var_dic_list())"
    },
    "r": {
     "delete_cmd_postfix": ") ",
     "delete_cmd_prefix": "rm(",
     "library": "var_list.r",
     "varRefreshCmd": "cat(var_dic_list()) "
    }
   },
   "types_to_exclude": [
    "module",
    "function",
    "builtin_function_or_method",
    "instance",
    "_Feature"
   ],
   "window_display": false
  }
 },
 "nbformat": 4,
 "nbformat_minor": 2
}
